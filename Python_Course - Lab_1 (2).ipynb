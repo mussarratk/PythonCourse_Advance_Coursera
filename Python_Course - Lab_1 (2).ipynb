{
 "cells": [
  {
   "cell_type": "markdown",
   "id": "7504c934",
   "metadata": {},
   "source": [
    "## 1. Define functions and returning values"
   ]
  },
  {
   "cell_type": "code",
   "execution_count": 1,
   "id": "59f0196a",
   "metadata": {},
   "outputs": [
    {
     "name": "stdout",
     "output_type": "stream",
     "text": [
      "Black dove, where will you go?\n"
     ]
    }
   ],
   "source": [
    "# The print() function can print text to the screen.\n",
    "print('Black dove, where will you go?')"
   ]
  },
  {
   "cell_type": "code",
   "execution_count": 2,
   "id": "c66d39c3",
   "metadata": {},
   "outputs": [
    {
     "data": {
      "text/plain": [
       "int"
      ]
     },
     "execution_count": 2,
     "metadata": {},
     "output_type": "execute_result"
    }
   ],
   "source": [
    "# The type() function returns an object's data type.\n",
    "number = 15\n",
    "\n",
    "type(number)"
   ]
  },
  {
   "cell_type": "code",
   "execution_count": 3,
   "id": "f5889f62",
   "metadata": {},
   "outputs": [
    {
     "name": "stdout",
     "output_type": "stream",
     "text": [
      "Welcome, Rebecca!\n",
      "You are part of the team!\n"
     ]
    }
   ],
   "source": [
    "# Define a function.\n",
    "def greeting(name):\n",
    "\n",
    "    print('Welcome, ' + name + '!')\n",
    "    print('You are part of the team!')\n",
    "\n",
    "greeting('Rebecca')"
   ]
  },
  {
   "cell_type": "code",
   "execution_count": null,
   "id": "7aabbc85",
   "metadata": {},
   "outputs": [],
   "source": [
    "# Define a function to calculate the area of a triangle.\n",
    "def area_triangle(base, height):\n",
    "    return base * height / 2"
   ]
  },
  {
   "cell_type": "code",
   "execution_count": 9,
   "id": "08a08b17",
   "metadata": {},
   "outputs": [
    {
     "data": {
      "text/plain": [
       "20.5"
      ]
     },
     "execution_count": 9,
     "metadata": {},
     "output_type": "execute_result"
    }
   ],
   "source": [
    "# Use the function to assign new variables and perform calculations.\n",
    "area_a = area_triangle(5, 4)\n",
    "area_b = area_triangle(7, 3)\n",
    "total_area = area_a + area_b\n",
    "total_area"
   ]
  },
  {
   "cell_type": "code",
   "execution_count": 11,
   "id": "97484a7e",
   "metadata": {},
   "outputs": [],
   "source": [
    "# Define a function that converts hours, minutes, and seconds to total seconds.\n",
    "def get_seconds(hours, minutes, seconds):\n",
    "    total_seconds = 3600*hours + 60*minutes + seconds\n",
    "    return total_seconds"
   ]
  },
  {
   "cell_type": "markdown",
   "id": "cf8bdc2c",
   "metadata": {},
   "source": [
    "## 2. Write clean code"
   ]
  },
  {
   "cell_type": "code",
   "execution_count": 12,
   "id": "88306669",
   "metadata": {},
   "outputs": [
    {
     "data": {
      "text/plain": [
       "60320"
      ]
     },
     "execution_count": 12,
     "metadata": {},
     "output_type": "execute_result"
    }
   ],
   "source": [
    "# Use the function to return a result.\n",
    "get_seconds(16, 45, 20)"
   ]
  },
  {
   "cell_type": "code",
   "execution_count": 15,
   "id": "ac6a2f18",
   "metadata": {},
   "outputs": [
    {
     "name": "stdout",
     "output_type": "stream",
     "text": [
      "Hello Marisol. Your lucky number is 63\n",
      "Hello Ardashir. Your lucky number is 72\n"
     ]
    }
   ],
   "source": [
    "# This code does the same thing for two different people.\n",
    "name = \"Marisol\"\n",
    "number = len(name)*9\n",
    "print(\"Hello \" + name + \". Your lucky number is \" + str(number))\n",
    "\n",
    "name = \"Ardashir\"\n",
    "number = len(name)*9\n",
    "print(\"Hello \" + name + \". Your lucky number is \" + str(number))"
   ]
  },
  {
   "cell_type": "code",
   "execution_count": 1,
   "id": "45bcc462",
   "metadata": {},
   "outputs": [
    {
     "name": "stdout",
     "output_type": "stream",
     "text": [
      "Hello Muss. Your lucky number is 36\n"
     ]
    }
   ],
   "source": [
    "def lucky_number(name):\n",
    "    number = len(name)*9\n",
    "    print('Hello ' + name + '. Your lucky number is ' + str(number))\n",
    "    \n",
    "lucky_number('Muss')"
   ]
  },
  {
   "cell_type": "code",
   "execution_count": 24,
   "id": "3046ffed",
   "metadata": {},
   "outputs": [
    {
     "name": "stdout",
     "output_type": "stream",
     "text": [
      "4\n",
      "1\n",
      "2\n",
      "6\n",
      "24\n"
     ]
    }
   ],
   "source": [
    "# This code requests a number from the user and returns its factorial,\n",
    "# printing each iteration of the multiplication.\n",
    "a = input(); y = 1\n",
    "\n",
    "for i in range(int(a)):\n",
    "    y = y*(i+1)\n",
    "    print(y)"
   ]
  },
  {
   "cell_type": "code",
   "execution_count": 25,
   "id": "4014361e",
   "metadata": {},
   "outputs": [
    {
     "name": "stdout",
     "output_type": "stream",
     "text": [
      "4\n",
      "24\n"
     ]
    }
   ],
   "source": [
    "# This function takes an integer as an input and returns its factorial.\n",
    "def factorial(n):\n",
    "    # Exclude 0 as product, start with 1\n",
    "    y = 1\n",
    "    for i in range(int(n)):\n",
    "        y = y*(i+1)\n",
    "    return y\n",
    "\n",
    "# Enter a numerical value between 1-9 in the command line that appears.\n",
    "input_num = input()\n",
    "# Apply factorial function to an integer input\n",
    "print(factorial(input_num))"
   ]
  },
  {
   "cell_type": "code",
   "execution_count": 26,
   "id": "5fec444b",
   "metadata": {},
   "outputs": [
    {
     "name": "stdout",
     "output_type": "stream",
     "text": [
      "4\n",
      "24\n"
     ]
    }
   ],
   "source": [
    "def factorial(n):\n",
    "    y=1\n",
    "    for i in range(int(n)):\n",
    "        y=y*(i+1)\n",
    "    return y\n",
    "input_number = input()\n",
    "print(factorial(input_num))"
   ]
  },
  {
   "cell_type": "code",
   "execution_count": 27,
   "id": "b8ed0756",
   "metadata": {},
   "outputs": [],
   "source": [
    "def seed_calculator(fountain_side, grass_width):\n",
    "    \"\"\"\n",
    "    Calculate number of kilograms of grass seed needed for\n",
    "    a border around a square fountain.\n",
    "\n",
    "        Parameters:\n",
    "            fountain_side (num): length of 1 side of fountain in meters\n",
    "            grass_width (num): width of grass border in meters\n",
    "\n",
    "        Returns:\n",
    "            seed (float): amount of seed (kg) needed for grass border\n",
    "    \"\"\"\n",
    "    # Area of fountain\n",
    "    fountain_area = fountain_side**2\n",
    "    # Total area\n",
    "    total_area = (fountain_side + 2 * grass_width)**2\n",
    "    # Area of grass border\n",
    "    grass_area = total_area - fountain_area\n",
    "    # Amount of seed needed (35 g/sq.m)\n",
    "    seed = grass_area * 35\n",
    "    # Convert to kg\n",
    "    seed = seed / 1000\n",
    "\n",
    "    return seed"
   ]
  },
  {
   "cell_type": "code",
   "execution_count": null,
   "id": "7c2c9ee0",
   "metadata": {},
   "outputs": [],
   "source": [
    "seed_calculator(12, 2)"
   ]
  },
  {
   "cell_type": "markdown",
   "id": "43b9b7d2",
   "metadata": {},
   "source": [
    "## 4. Make comparisons using operators"
   ]
  },
  {
   "cell_type": "code",
   "execution_count": 29,
   "id": "2f1f59f8",
   "metadata": {},
   "outputs": [
    {
     "name": "stdout",
     "output_type": "stream",
     "text": [
      "True\n"
     ]
    }
   ],
   "source": [
    "# > checks for greater than\n",
    "print(10>1)"
   ]
  },
  {
   "cell_type": "code",
   "execution_count": 30,
   "id": "54be81a3",
   "metadata": {},
   "outputs": [
    {
     "name": "stdout",
     "output_type": "stream",
     "text": [
      "False\n"
     ]
    }
   ],
   "source": [
    "# == checks for equality\n",
    "print(\"cat\" == \"dog\")"
   ]
  },
  {
   "cell_type": "code",
   "execution_count": 31,
   "id": "17aded4e",
   "metadata": {
    "scrolled": true
   },
   "outputs": [
    {
     "name": "stdout",
     "output_type": "stream",
     "text": [
      "True\n"
     ]
    }
   ],
   "source": [
    "# != checks for inequality\n",
    "print(1 != 2)"
   ]
  },
  {
   "cell_type": "code",
   "execution_count": null,
   "id": "b6e9a156",
   "metadata": {},
   "outputs": [],
   "source": [
    "# Some operators cannot be used between different data types.\n",
    "print(1 < \"1\")"
   ]
  },
  {
   "cell_type": "code",
   "execution_count": null,
   "id": "f947cb3b",
   "metadata": {},
   "outputs": [],
   "source": [
    "# Letters that occur earlier in the alphabet evaluate to less than letters from later in the alphabet.\n",
    "# BOTH sides of an `and` statement must be true to return True.\n",
    "print(\"Yellow\" > \"Cyan\" and \"Brown\" > \"Magenta\")"
   ]
  },
  {
   "cell_type": "code",
   "execution_count": null,
   "id": "6cab2e59",
   "metadata": {},
   "outputs": [],
   "source": [
    "# An `or` statement will return True if EITHER side evaluates to True.\n",
    "print(25 > 50 or 1 != 2)"
   ]
  },
  {
   "cell_type": "code",
   "execution_count": null,
   "id": "0b7fca68",
   "metadata": {},
   "outputs": [],
   "source": [
    "# `not` reverses Boolean evaluation of what follows it.\n",
    "print(not 42 == \"Answer\")"
   ]
  },
  {
   "cell_type": "markdown",
   "id": "4539d01d",
   "metadata": {},
   "source": [
    "## 5. Use if/elif/else statements to make decisions"
   ]
  },
  {
   "cell_type": "code",
   "execution_count": 34,
   "id": "0298bd63",
   "metadata": {},
   "outputs": [],
   "source": [
    "# Define a function that checks validity of username based on length.\n",
    "def hint_username(username):\n",
    "    if len(username) < 8:\n",
    "        print(\"Invalid username. Must be at least 8 characters long.\")\n",
    "    else:\n",
    "        print(\"Valid username.\")"
   ]
  },
  {
   "cell_type": "code",
   "execution_count": null,
   "id": "9eed40be",
   "metadata": {},
   "outputs": [],
   "source": [
    "# Define a function that uses modulo to check if a number is even.\n",
    "def is_even(number):\n",
    "    if number % 2 == 0:\n",
    "        return True\n",
    "    return False"
   ]
  },
  {
   "cell_type": "code",
   "execution_count": null,
   "id": "c6efd9b8",
   "metadata": {},
   "outputs": [],
   "source": [
    "is_even(19)"
   ]
  },
  {
   "cell_type": "code",
   "execution_count": null,
   "id": "323169e7",
   "metadata": {},
   "outputs": [],
   "source": [
    "# Define a function that checks validity of username based on length.\n",
    "def hint_username(username):\n",
    "    if len(username) < 8:\n",
    "        print(\"Invalid username. Must be at least 8 characters long.\")\n",
    "    elif len(username) > 15:\n",
    "        print(\"Invalid username. Cannot exceed 15 characters.\")\n",
    "    else:\n",
    "        print(\"Valid username.\")"
   ]
  },
  {
   "cell_type": "code",
   "execution_count": null,
   "id": "b247ec46",
   "metadata": {},
   "outputs": [],
   "source": [
    "hint_username(\"ljñkljfñklasdjflkñadjglk{a\")"
   ]
  },
  {
   "cell_type": "markdown",
   "id": "00657d5f",
   "metadata": {},
   "source": [
    "### Congratulations! You've completed this lab. "
   ]
  }
 ],
 "metadata": {
  "kernelspec": {
   "display_name": "Python 3 (ipykernel)",
   "language": "python",
   "name": "python3"
  },
  "language_info": {
   "codemirror_mode": {
    "name": "ipython",
    "version": 3
   },
   "file_extension": ".py",
   "mimetype": "text/x-python",
   "name": "python",
   "nbconvert_exporter": "python",
   "pygments_lexer": "ipython3",
   "version": "3.10.9"
  }
 },
 "nbformat": 4,
 "nbformat_minor": 5
}
